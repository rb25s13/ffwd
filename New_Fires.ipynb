{
 "cells": [
  {
   "cell_type": "code",
   "execution_count": 9,
   "metadata": {},
   "outputs": [],
   "source": [
    "import numpy as np\n",
    "import pandas as pd"
   ]
  },
  {
   "cell_type": "code",
   "execution_count": 11,
   "metadata": {},
   "outputs": [],
   "source": [
    "fires_df = pd.read_csv('./data/Fires.csv')"
   ]
  },
  {
   "cell_type": "code",
   "execution_count": 12,
   "metadata": {},
   "outputs": [
    {
     "data": {
      "text/html": [
       "<div>\n",
       "<style scoped>\n",
       "    .dataframe tbody tr th:only-of-type {\n",
       "        vertical-align: middle;\n",
       "    }\n",
       "\n",
       "    .dataframe tbody tr th {\n",
       "        vertical-align: top;\n",
       "    }\n",
       "\n",
       "    .dataframe thead th {\n",
       "        text-align: right;\n",
       "    }\n",
       "</style>\n",
       "<table border=\"1\" class=\"dataframe\">\n",
       "  <thead>\n",
       "    <tr style=\"text-align: right;\">\n",
       "      <th></th>\n",
       "      <th>Unnamed: 0</th>\n",
       "      <th>STATE</th>\n",
       "      <th>FIRE_YEAR</th>\n",
       "      <th>FIRE_SIZE</th>\n",
       "      <th>FIRE_SIZE_CLASS</th>\n",
       "      <th>STAT_CAUSE_DESCR</th>\n",
       "      <th>LATITUDE</th>\n",
       "      <th>LONGITUDE</th>\n",
       "    </tr>\n",
       "  </thead>\n",
       "  <tbody>\n",
       "    <tr>\n",
       "      <th>0</th>\n",
       "      <td>0</td>\n",
       "      <td>CA</td>\n",
       "      <td>2005</td>\n",
       "      <td>0.10</td>\n",
       "      <td>A</td>\n",
       "      <td>Miscellaneous</td>\n",
       "      <td>40.036944</td>\n",
       "      <td>-121.005833</td>\n",
       "    </tr>\n",
       "    <tr>\n",
       "      <th>1</th>\n",
       "      <td>1</td>\n",
       "      <td>CA</td>\n",
       "      <td>2004</td>\n",
       "      <td>0.25</td>\n",
       "      <td>A</td>\n",
       "      <td>Lightning</td>\n",
       "      <td>38.933056</td>\n",
       "      <td>-120.404444</td>\n",
       "    </tr>\n",
       "    <tr>\n",
       "      <th>2</th>\n",
       "      <td>2</td>\n",
       "      <td>CA</td>\n",
       "      <td>2004</td>\n",
       "      <td>0.10</td>\n",
       "      <td>A</td>\n",
       "      <td>Debris Burning</td>\n",
       "      <td>38.984167</td>\n",
       "      <td>-120.735556</td>\n",
       "    </tr>\n",
       "    <tr>\n",
       "      <th>3</th>\n",
       "      <td>3</td>\n",
       "      <td>CA</td>\n",
       "      <td>2004</td>\n",
       "      <td>0.10</td>\n",
       "      <td>A</td>\n",
       "      <td>Lightning</td>\n",
       "      <td>38.559167</td>\n",
       "      <td>-119.913333</td>\n",
       "    </tr>\n",
       "    <tr>\n",
       "      <th>4</th>\n",
       "      <td>4</td>\n",
       "      <td>CA</td>\n",
       "      <td>2004</td>\n",
       "      <td>0.10</td>\n",
       "      <td>A</td>\n",
       "      <td>Lightning</td>\n",
       "      <td>38.559167</td>\n",
       "      <td>-119.933056</td>\n",
       "    </tr>\n",
       "    <tr>\n",
       "      <th>...</th>\n",
       "      <td>...</td>\n",
       "      <td>...</td>\n",
       "      <td>...</td>\n",
       "      <td>...</td>\n",
       "      <td>...</td>\n",
       "      <td>...</td>\n",
       "      <td>...</td>\n",
       "      <td>...</td>\n",
       "    </tr>\n",
       "    <tr>\n",
       "      <th>1880460</th>\n",
       "      <td>1880460</td>\n",
       "      <td>CA</td>\n",
       "      <td>2015</td>\n",
       "      <td>0.01</td>\n",
       "      <td>A</td>\n",
       "      <td>Missing/Undefined</td>\n",
       "      <td>40.481637</td>\n",
       "      <td>-122.389375</td>\n",
       "    </tr>\n",
       "    <tr>\n",
       "      <th>1880461</th>\n",
       "      <td>1880461</td>\n",
       "      <td>CA</td>\n",
       "      <td>2015</td>\n",
       "      <td>0.20</td>\n",
       "      <td>A</td>\n",
       "      <td>Miscellaneous</td>\n",
       "      <td>37.617619</td>\n",
       "      <td>-120.938570</td>\n",
       "    </tr>\n",
       "    <tr>\n",
       "      <th>1880462</th>\n",
       "      <td>1880462</td>\n",
       "      <td>CA</td>\n",
       "      <td>2015</td>\n",
       "      <td>0.10</td>\n",
       "      <td>A</td>\n",
       "      <td>Missing/Undefined</td>\n",
       "      <td>37.617619</td>\n",
       "      <td>-120.938570</td>\n",
       "    </tr>\n",
       "    <tr>\n",
       "      <th>1880463</th>\n",
       "      <td>1880463</td>\n",
       "      <td>CA</td>\n",
       "      <td>2015</td>\n",
       "      <td>2.00</td>\n",
       "      <td>B</td>\n",
       "      <td>Missing/Undefined</td>\n",
       "      <td>37.672235</td>\n",
       "      <td>-120.898356</td>\n",
       "    </tr>\n",
       "    <tr>\n",
       "      <th>1880464</th>\n",
       "      <td>1880464</td>\n",
       "      <td>CA</td>\n",
       "      <td>2015</td>\n",
       "      <td>0.10</td>\n",
       "      <td>A</td>\n",
       "      <td>Miscellaneous</td>\n",
       "      <td>34.263217</td>\n",
       "      <td>-116.830950</td>\n",
       "    </tr>\n",
       "  </tbody>\n",
       "</table>\n",
       "<p>1880465 rows × 8 columns</p>\n",
       "</div>"
      ],
      "text/plain": [
       "         Unnamed: 0 STATE  FIRE_YEAR  FIRE_SIZE FIRE_SIZE_CLASS  \\\n",
       "0                 0    CA       2005       0.10               A   \n",
       "1                 1    CA       2004       0.25               A   \n",
       "2                 2    CA       2004       0.10               A   \n",
       "3                 3    CA       2004       0.10               A   \n",
       "4                 4    CA       2004       0.10               A   \n",
       "...             ...   ...        ...        ...             ...   \n",
       "1880460     1880460    CA       2015       0.01               A   \n",
       "1880461     1880461    CA       2015       0.20               A   \n",
       "1880462     1880462    CA       2015       0.10               A   \n",
       "1880463     1880463    CA       2015       2.00               B   \n",
       "1880464     1880464    CA       2015       0.10               A   \n",
       "\n",
       "          STAT_CAUSE_DESCR   LATITUDE   LONGITUDE  \n",
       "0            Miscellaneous  40.036944 -121.005833  \n",
       "1                Lightning  38.933056 -120.404444  \n",
       "2           Debris Burning  38.984167 -120.735556  \n",
       "3                Lightning  38.559167 -119.913333  \n",
       "4                Lightning  38.559167 -119.933056  \n",
       "...                    ...        ...         ...  \n",
       "1880460  Missing/Undefined  40.481637 -122.389375  \n",
       "1880461      Miscellaneous  37.617619 -120.938570  \n",
       "1880462  Missing/Undefined  37.617619 -120.938570  \n",
       "1880463  Missing/Undefined  37.672235 -120.898356  \n",
       "1880464      Miscellaneous  34.263217 -116.830950  \n",
       "\n",
       "[1880465 rows x 8 columns]"
      ]
     },
     "execution_count": 12,
     "metadata": {},
     "output_type": "execute_result"
    }
   ],
   "source": [
    "fires_df"
   ]
  },
  {
   "cell_type": "code",
   "execution_count": 13,
   "id": "2316026e",
   "metadata": {},
   "outputs": [],
   "source": [
    "states = [ 'AK', 'AL', 'AR', 'AZ', 'CA', 'CO', 'CT', 'DC', 'DE', 'FL', 'GA',\n",
    "           'HI', 'IA', 'ID', 'IL', 'IN', 'KS', 'KY', 'LA', 'MA', 'MD', 'ME',\n",
    "           'MI', 'MN', 'MO', 'MS', 'MT', 'NC', 'ND', 'NE', 'NH', 'NJ', 'NM',\n",
    "           'NV', 'NY', 'OH', 'OK', 'OR', 'PA', 'RI', 'SC', 'SD', 'TN', 'TX',\n",
    "           'UT', 'VA', 'VT', 'WA', 'WI', 'WV', 'WY']"
   ]
  },
  {
   "cell_type": "code",
   "execution_count": 24,
   "id": "2c1e4de4",
   "metadata": {},
   "outputs": [],
   "source": [
    "# create csvs for each state\n",
    "for state in states:\n",
    "    globals()[f'{state}_fires'] = fires_df[fires_df['STATE'] == state].drop('Unnamed: 0', axis=1)\n",
    "    globals()[f'{state}_fires'].to_csv(f'./data/{state}_fires.csv')"
   ]
  },
  {
   "cell_type": "code",
   "execution_count": 26,
   "metadata": {},
   "outputs": [
    {
     "data": {
      "text/html": [
       "<div>\n",
       "<style scoped>\n",
       "    .dataframe tbody tr th:only-of-type {\n",
       "        vertical-align: middle;\n",
       "    }\n",
       "\n",
       "    .dataframe tbody tr th {\n",
       "        vertical-align: top;\n",
       "    }\n",
       "\n",
       "    .dataframe thead th {\n",
       "        text-align: right;\n",
       "    }\n",
       "</style>\n",
       "<table border=\"1\" class=\"dataframe\">\n",
       "  <thead>\n",
       "    <tr style=\"text-align: right;\">\n",
       "      <th></th>\n",
       "      <th>STATE</th>\n",
       "      <th>FIRE_YEAR</th>\n",
       "      <th>FIRE_SIZE</th>\n",
       "      <th>FIRE_SIZE_CLASS</th>\n",
       "      <th>STAT_CAUSE_DESCR</th>\n",
       "      <th>LATITUDE</th>\n",
       "      <th>LONGITUDE</th>\n",
       "    </tr>\n",
       "  </thead>\n",
       "  <tbody>\n",
       "    <tr>\n",
       "      <th>0</th>\n",
       "      <td>CA</td>\n",
       "      <td>2005</td>\n",
       "      <td>0.10</td>\n",
       "      <td>A</td>\n",
       "      <td>Miscellaneous</td>\n",
       "      <td>40.036944</td>\n",
       "      <td>-121.005833</td>\n",
       "    </tr>\n",
       "    <tr>\n",
       "      <th>1</th>\n",
       "      <td>CA</td>\n",
       "      <td>2004</td>\n",
       "      <td>0.25</td>\n",
       "      <td>A</td>\n",
       "      <td>Lightning</td>\n",
       "      <td>38.933056</td>\n",
       "      <td>-120.404444</td>\n",
       "    </tr>\n",
       "    <tr>\n",
       "      <th>2</th>\n",
       "      <td>CA</td>\n",
       "      <td>2004</td>\n",
       "      <td>0.10</td>\n",
       "      <td>A</td>\n",
       "      <td>Debris Burning</td>\n",
       "      <td>38.984167</td>\n",
       "      <td>-120.735556</td>\n",
       "    </tr>\n",
       "    <tr>\n",
       "      <th>3</th>\n",
       "      <td>CA</td>\n",
       "      <td>2004</td>\n",
       "      <td>0.10</td>\n",
       "      <td>A</td>\n",
       "      <td>Lightning</td>\n",
       "      <td>38.559167</td>\n",
       "      <td>-119.913333</td>\n",
       "    </tr>\n",
       "    <tr>\n",
       "      <th>4</th>\n",
       "      <td>CA</td>\n",
       "      <td>2004</td>\n",
       "      <td>0.10</td>\n",
       "      <td>A</td>\n",
       "      <td>Lightning</td>\n",
       "      <td>38.559167</td>\n",
       "      <td>-119.933056</td>\n",
       "    </tr>\n",
       "    <tr>\n",
       "      <th>...</th>\n",
       "      <td>...</td>\n",
       "      <td>...</td>\n",
       "      <td>...</td>\n",
       "      <td>...</td>\n",
       "      <td>...</td>\n",
       "      <td>...</td>\n",
       "      <td>...</td>\n",
       "    </tr>\n",
       "    <tr>\n",
       "      <th>1880460</th>\n",
       "      <td>CA</td>\n",
       "      <td>2015</td>\n",
       "      <td>0.01</td>\n",
       "      <td>A</td>\n",
       "      <td>Missing/Undefined</td>\n",
       "      <td>40.481637</td>\n",
       "      <td>-122.389375</td>\n",
       "    </tr>\n",
       "    <tr>\n",
       "      <th>1880461</th>\n",
       "      <td>CA</td>\n",
       "      <td>2015</td>\n",
       "      <td>0.20</td>\n",
       "      <td>A</td>\n",
       "      <td>Miscellaneous</td>\n",
       "      <td>37.617619</td>\n",
       "      <td>-120.938570</td>\n",
       "    </tr>\n",
       "    <tr>\n",
       "      <th>1880462</th>\n",
       "      <td>CA</td>\n",
       "      <td>2015</td>\n",
       "      <td>0.10</td>\n",
       "      <td>A</td>\n",
       "      <td>Missing/Undefined</td>\n",
       "      <td>37.617619</td>\n",
       "      <td>-120.938570</td>\n",
       "    </tr>\n",
       "    <tr>\n",
       "      <th>1880463</th>\n",
       "      <td>CA</td>\n",
       "      <td>2015</td>\n",
       "      <td>2.00</td>\n",
       "      <td>B</td>\n",
       "      <td>Missing/Undefined</td>\n",
       "      <td>37.672235</td>\n",
       "      <td>-120.898356</td>\n",
       "    </tr>\n",
       "    <tr>\n",
       "      <th>1880464</th>\n",
       "      <td>CA</td>\n",
       "      <td>2015</td>\n",
       "      <td>0.10</td>\n",
       "      <td>A</td>\n",
       "      <td>Miscellaneous</td>\n",
       "      <td>34.263217</td>\n",
       "      <td>-116.830950</td>\n",
       "    </tr>\n",
       "  </tbody>\n",
       "</table>\n",
       "<p>189550 rows × 7 columns</p>\n",
       "</div>"
      ],
      "text/plain": [
       "        STATE  FIRE_YEAR  FIRE_SIZE FIRE_SIZE_CLASS   STAT_CAUSE_DESCR  \\\n",
       "0          CA       2005       0.10               A      Miscellaneous   \n",
       "1          CA       2004       0.25               A          Lightning   \n",
       "2          CA       2004       0.10               A     Debris Burning   \n",
       "3          CA       2004       0.10               A          Lightning   \n",
       "4          CA       2004       0.10               A          Lightning   \n",
       "...       ...        ...        ...             ...                ...   \n",
       "1880460    CA       2015       0.01               A  Missing/Undefined   \n",
       "1880461    CA       2015       0.20               A      Miscellaneous   \n",
       "1880462    CA       2015       0.10               A  Missing/Undefined   \n",
       "1880463    CA       2015       2.00               B  Missing/Undefined   \n",
       "1880464    CA       2015       0.10               A      Miscellaneous   \n",
       "\n",
       "          LATITUDE   LONGITUDE  \n",
       "0        40.036944 -121.005833  \n",
       "1        38.933056 -120.404444  \n",
       "2        38.984167 -120.735556  \n",
       "3        38.559167 -119.913333  \n",
       "4        38.559167 -119.933056  \n",
       "...            ...         ...  \n",
       "1880460  40.481637 -122.389375  \n",
       "1880461  37.617619 -120.938570  \n",
       "1880462  37.617619 -120.938570  \n",
       "1880463  37.672235 -120.898356  \n",
       "1880464  34.263217 -116.830950  \n",
       "\n",
       "[189550 rows x 7 columns]"
      ]
     },
     "execution_count": 26,
     "metadata": {},
     "output_type": "execute_result"
    }
   ],
   "source": [
    "CA_fires"
   ]
  },
  {
   "cell_type": "code",
   "execution_count": 27,
   "metadata": {},
   "outputs": [
    {
     "data": {
      "text/plain": [
       "FIRE_YEAR\n",
       "1992    10833\n",
       "1993     8270\n",
       "1994     8654\n",
       "1995     7381\n",
       "1996     9173\n",
       "1997     7930\n",
       "1998     6864\n",
       "1999     8910\n",
       "2000     6977\n",
       "2001     8182\n",
       "2002     7133\n",
       "2003     7913\n",
       "2004     7418\n",
       "2005     6678\n",
       "2006     8271\n",
       "2007    10151\n",
       "2008     7744\n",
       "2009     6940\n",
       "2010     5776\n",
       "2011     8562\n",
       "2012     7208\n",
       "2013     8723\n",
       "2014     6494\n",
       "2015     7365\n",
       "Name: TOTAL_COUNT, dtype: int64"
      ]
     },
     "execution_count": 27,
     "metadata": {},
     "output_type": "execute_result"
    }
   ],
   "source": [
    "fires_by_year = CA_fires.groupby(['FIRE_YEAR']).count()\n",
    "fires_by_year['TOTAL_COUNT'] = fires_by_year['STATE']\n",
    "fires_by_year = fires_by_year['TOTAL_COUNT']\n",
    "fires_by_year\n"
   ]
  },
  {
   "cell_type": "code",
   "execution_count": 28,
   "metadata": {},
   "outputs": [
    {
     "data": {
      "text/plain": [
       "FIRE_SIZE_CLASS  FIRE_YEAR\n",
       "A                1992         5997\n",
       "                 1993         3897\n",
       "                 1994         4290\n",
       "                 1995         3602\n",
       "                 1996         4258\n",
       "                              ... \n",
       "G                2011            9\n",
       "                 2012           15\n",
       "                 2013           15\n",
       "                 2014           17\n",
       "                 2015           27\n",
       "Name: TOTAL_COUNT, Length: 168, dtype: int64"
      ]
     },
     "execution_count": 28,
     "metadata": {},
     "output_type": "execute_result"
    }
   ],
   "source": [
    "yearly_class_count = CA_fires.groupby(['FIRE_SIZE_CLASS', 'FIRE_YEAR']).count()\n",
    "yearly_class_count['TOTAL_COUNT'] = yearly_class_count['STATE']\n",
    "yearly_class_count = yearly_class_count['TOTAL_COUNT']\n",
    "yearly_class_count"
   ]
  },
  {
   "cell_type": "code",
   "execution_count": 29,
   "metadata": {},
   "outputs": [
    {
     "data": {
      "text/plain": [
       "FIRE_SIZE_CLASS\n",
       "A    98309\n",
       "B    76942\n",
       "C     9825\n",
       "D     2137\n",
       "E     1187\n",
       "F      756\n",
       "G      394\n",
       "Name: TOTAL_COUNT, dtype: int64"
      ]
     },
     "execution_count": 29,
     "metadata": {},
     "output_type": "execute_result"
    }
   ],
   "source": [
    "fires_by_class = CA_fires.groupby(['FIRE_SIZE_CLASS']).count()\n",
    "fires_by_class['TOTAL_COUNT'] = fires_by_class['STATE']\n",
    "fires_by_class = fires_by_class['TOTAL_COUNT']\n",
    "fires_by_class"
   ]
  },
  {
   "cell_type": "code",
   "execution_count": 30,
   "metadata": {},
   "outputs": [
    {
     "data": {
      "text/plain": [
       "STAT_CAUSE_DESCR  FIRE_YEAR\n",
       "Arson             1992         1155\n",
       "                  1993         1077\n",
       "                  1994          768\n",
       "                  1995          997\n",
       "                  1996          948\n",
       "                               ... \n",
       "Structure         2011            6\n",
       "                  2012           10\n",
       "                  2013            8\n",
       "                  2014           20\n",
       "                  2015            3\n",
       "Name: TOTAL_COUNT, Length: 309, dtype: int64"
      ]
     },
     "execution_count": 30,
     "metadata": {},
     "output_type": "execute_result"
    }
   ],
   "source": [
    "yearly_cause_count = CA_fires.groupby(['STAT_CAUSE_DESCR', 'FIRE_YEAR']).count()\n",
    "yearly_cause_count['TOTAL_COUNT'] = yearly_cause_count['STATE']\n",
    "yearly_cause_count = yearly_cause_count['TOTAL_COUNT']\n",
    "yearly_cause_count"
   ]
  },
  {
   "cell_type": "code",
   "execution_count": 31,
   "metadata": {},
   "outputs": [
    {
     "data": {
      "text/plain": [
       "STAT_CAUSE_DESCR\n",
       "Arson                19635\n",
       "Campfire              9516\n",
       "Children              6930\n",
       "Debris Burning       14318\n",
       "Equipment Use        39407\n",
       "Fireworks              219\n",
       "Lightning            27000\n",
       "Miscellaneous        51943\n",
       "Missing/Undefined    12605\n",
       "Powerline             1198\n",
       "Railroad               720\n",
       "Smoking               5936\n",
       "Structure              123\n",
       "Name: TOTAL_COUNT, dtype: int64"
      ]
     },
     "execution_count": 31,
     "metadata": {},
     "output_type": "execute_result"
    }
   ],
   "source": [
    "fires_by_cause = CA_fires.groupby(['STAT_CAUSE_DESCR']).count()\n",
    "fires_by_cause['TOTAL_COUNT'] = fires_by_cause['STATE']\n",
    "fires_by_cause = fires_by_cause['TOTAL_COUNT']\n",
    "fires_by_cause"
   ]
  },
  {
   "cell_type": "code",
   "execution_count": 32,
   "metadata": {},
   "outputs": [
    {
     "data": {
      "text/plain": [
       "FIRE_YEAR\n",
       "1992     296439.800\n",
       "1993     321495.300\n",
       "1994     407944.700\n",
       "1995     216068.700\n",
       "1996     707110.500\n",
       "1997     324566.300\n",
       "1998     160013.100\n",
       "1999     804123.400\n",
       "2000     252676.000\n",
       "2001     350176.700\n",
       "2002     514942.700\n",
       "2003    1031965.050\n",
       "2004     301095.970\n",
       "2005     258714.870\n",
       "2006     812711.940\n",
       "2007    1045291.620\n",
       "2008    1430153.600\n",
       "2009     455350.040\n",
       "2010     120947.040\n",
       "2011     192286.920\n",
       "2012     764766.640\n",
       "2013     581410.292\n",
       "2014     546878.780\n",
       "2015     848728.610\n",
       "Name: FIRE_SIZE, dtype: float64"
      ]
     },
     "execution_count": 32,
     "metadata": {},
     "output_type": "execute_result"
    }
   ],
   "source": [
    "acres_by_year = CA_fires.groupby(['FIRE_YEAR']).sum()\n",
    "acres_by_year = acres_by_year['FIRE_SIZE']\n",
    "acres_by_year"
   ]
  },
  {
   "cell_type": "code",
   "execution_count": 33,
   "metadata": {},
   "outputs": [
    {
     "data": {
      "text/plain": [
       "FIRE_SIZE_CLASS\n",
       "A      11015.602\n",
       "B     124064.780\n",
       "C     289694.930\n",
       "D     345499.010\n",
       "E     620129.270\n",
       "F    1620972.750\n",
       "G    9734482.230\n",
       "Name: FIRE_SIZE, dtype: float64"
      ]
     },
     "execution_count": 33,
     "metadata": {},
     "output_type": "execute_result"
    }
   ],
   "source": [
    "acres_by_class = CA_fires.groupby(['FIRE_SIZE_CLASS']).sum()\n",
    "acres_by_class = acres_by_class['FIRE_SIZE']\n",
    "acres_by_class"
   ]
  },
  {
   "cell_type": "code",
   "execution_count": 34,
   "metadata": {},
   "outputs": [
    {
     "data": {
      "text/plain": [
       "STAT_CAUSE_DESCR\n",
       "Arson                1.396072e+06\n",
       "Campfire             9.721100e+05\n",
       "Children             1.212042e+05\n",
       "Debris Burning       3.975753e+05\n",
       "Equipment Use        1.561227e+06\n",
       "Fireworks            6.820300e+03\n",
       "Lightning            4.216265e+06\n",
       "Miscellaneous        2.812105e+06\n",
       "Missing/Undefined    7.957222e+05\n",
       "Powerline            2.015198e+05\n",
       "Railroad             7.325518e+04\n",
       "Smoking              1.152348e+05\n",
       "Structure            7.674850e+04\n",
       "Name: FIRE_SIZE, dtype: float64"
      ]
     },
     "execution_count": 34,
     "metadata": {},
     "output_type": "execute_result"
    }
   ],
   "source": [
    "acres_by_cause = CA_fires.groupby(['STAT_CAUSE_DESCR']).sum()\n",
    "acres_by_cause = acres_by_cause['FIRE_SIZE']\n",
    "acres_by_cause"
   ]
  },
  {
   "cell_type": "code",
   "execution_count": 35,
   "metadata": {},
   "outputs": [],
   "source": [
    "acres_by_cause.to_csv('./data/acres_by_cause.csv')\n",
    "acres_by_class.to_csv('./data/acres_by_class.csv')\n",
    "acres_by_year.to_csv('./data/acres_by_year.csv')\n",
    "fires_by_year.to_csv('./data/fires_by_year.csv')"
   ]
  },
  {
   "cell_type": "code",
   "execution_count": null,
   "metadata": {},
   "outputs": [],
   "source": []
  }
 ],
 "metadata": {
  "interpreter": {
   "hash": "ad4e1cdc6d2df6b78adfa9d5dade8a91d4fb637b81e67ab4fabe1812f655f6f5"
  },
  "kernelspec": {
   "display_name": "Python 3.6.10 64-bit ('PyEnv': conda)",
   "name": "python3"
  },
  "language_info": {
   "codemirror_mode": {
    "name": "ipython",
    "version": 3
   },
   "file_extension": ".py",
   "mimetype": "text/x-python",
   "name": "python",
   "nbconvert_exporter": "python",
   "pygments_lexer": "ipython3",
   "version": "3.6.10"
  }
 },
 "nbformat": 4,
 "nbformat_minor": 5
}
